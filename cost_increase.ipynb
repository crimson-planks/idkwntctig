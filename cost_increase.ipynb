{
 "cells": [
  {
   "cell_type": "code",
   "execution_count": 1,
   "metadata": {},
   "outputs": [
    {
     "name": "stdout",
     "output_type": "stream",
     "text": [
      "104.5\n",
      "104.5\n",
      "73\n",
      "73.41688755005971\n"
     ]
    }
   ],
   "source": [
    "cost = 10\n",
    "cost_increase = 0.1\n",
    "def get_cost_naïve(cost, cost_increase, amount):\n",
    "    sum = 0\n",
    "    for i in range(amount):\n",
    "        sum+=cost+i*cost_increase\n",
    "    return sum\n",
    "def get_cost(start_cost, cost_increase, amount):\n",
    "    # y = ac + c(a-1)(a/2)\n",
    "    return start_cost * amount+cost_increase*amount/2*(amount-1)\n",
    "def get_amount_naïve(cost, cost_increase, money):\n",
    "    amount=0\n",
    "    while(money>0):\n",
    "        money-=cost+cost_increase*amount\n",
    "        amount+=1\n",
    "    return amount-1\n",
    "def get_amount(start_cost, cost_increase, money):\n",
    "    a=cost_increase/2\n",
    "    b=start_cost-cost_increase/2\n",
    "    c=-money\n",
    "    return (-b+(b**2-4*a*c)**0.5)/(a*2)\n",
    "\n",
    "print(get_cost_naïve(10, 0.1, 10))\n",
    "print(get_cost(10, 0.1, 10))\n",
    "print(get_amount_naïve(10, 0.1, 1000))\n",
    "print(get_amount(10, 0.1, 1000))\n",
    "#"
   ]
  },
  {
   "cell_type": "code",
   "execution_count": null,
   "metadata": {},
   "outputs": [],
   "source": []
  }
 ],
 "metadata": {
  "kernelspec": {
   "display_name": "Python 3",
   "language": "python",
   "name": "python3"
  },
  "language_info": {
   "codemirror_mode": {
    "name": "ipython",
    "version": 3
   },
   "file_extension": ".py",
   "mimetype": "text/x-python",
   "name": "python",
   "nbconvert_exporter": "python",
   "pygments_lexer": "ipython3",
   "version": "3.11.3"
  },
  "orig_nbformat": 4
 },
 "nbformat": 4,
 "nbformat_minor": 2
}
